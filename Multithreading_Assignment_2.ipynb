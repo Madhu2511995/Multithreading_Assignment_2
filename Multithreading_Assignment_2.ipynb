{
 "cells": [
  {
   "cell_type": "markdown",
   "id": "85f361b8-4e03-461e-bd6d-d578ef411c62",
   "metadata": {},
   "source": [
    "Q1. What is multithreading in python?Why is it used? Name the module used to handle threads in python\n",
    "\n",
    "Q2. why threading module used? Write the use of the following functions\n",
    "1. activeCount()\n",
    "2. currentThread()\n",
    "3. enumerate()\n",
    "\n",
    "Q3. Explain the following functions\n",
    "1. run()\n",
    "2. start()\n",
    "3. join()\n",
    "4. isAlive()\n",
    "\n",
    "Q4. Write a python program to create two threads. Thread one must print the list of squares and thread two must print the list of cubes\n",
    " \n",
    "Q5. State advantages and disadvantages of multithreading\n",
    " \n",
    "Q6. Explain deadlocks and race conditions."
   ]
  },
  {
   "cell_type": "markdown",
   "id": "bcc54f3d-1a13-45e2-ada5-2c97b87265fa",
   "metadata": {},
   "source": [
    "### Answers"
   ]
  },
  {
   "cell_type": "markdown",
   "id": "aee0b31f-4c88-4935-82dc-1b7585c1a696",
   "metadata": {},
   "source": [
    "### Q1. What is multithreading in python?Why is it used? Name the module used to handle threads in python"
   ]
  },
  {
   "cell_type": "markdown",
   "id": "4b0334d6-38c6-4d96-9b24-a9cc9029d806",
   "metadata": {},
   "source": [
    "Multithreading ==> Executing several task simultaneously where each task is a seperate independent part of the same program is \n",
    "clalled multithreading. It is use to improve preformance of the system by reducing th response time. Python provied the inbuilt \"threading\"\n",
    "to provide the support for developing thread."
   ]
  },
  {
   "cell_type": "markdown",
   "id": "3cc101d4-6f2a-426c-9e28-e2286304c675",
   "metadata": {},
   "source": [
    "### Q2. why threading module used? Write the use of the following functions\n",
    "\n",
    "1. activeCount()\n",
    "2. currentThread()\n",
    "3. enumerate()"
   ]
  },
  {
   "cell_type": "markdown",
   "id": "70d5bf4d-154b-4068-b2d7-5439643f268a",
   "metadata": {},
   "source": [
    "threading module is used to provide the support for developing thread."
   ]
  },
  {
   "cell_type": "markdown",
   "id": "17135913-7e39-462d-a596-fc4a019e5fa0",
   "metadata": {},
   "source": [
    "1. activeCount()==> This function return the number of active threads currently running."
   ]
  },
  {
   "cell_type": "markdown",
   "id": "55916f3e-85ef-4975-b618-a7967aaf1e52",
   "metadata": {},
   "source": [
    "2. currentThread()==> Return the refrrence of currently executing thread object."
   ]
  },
  {
   "cell_type": "markdown",
   "id": "e6394a72-ba52-4a21-83e7-f8c9db4cfef5",
   "metadata": {},
   "source": [
    "3. enumerate()==> This function return a list of all active thread currently running."
   ]
  },
  {
   "cell_type": "code",
   "execution_count": 5,
   "id": "d3e15225-9773-4754-9018-fb813f5ea766",
   "metadata": {},
   "outputs": [
    {
     "name": "stdout",
     "output_type": "stream",
     "text": [
      "The number of active threads : 8\n",
      "Child thread ...started\n",
      "The number of active threads : 9\n"
     ]
    },
    {
     "name": "stderr",
     "output_type": "stream",
     "text": [
      "/tmp/ipykernel_95/3315939747.py:4: DeprecationWarning: getName() is deprecated, get the name attribute instead\n",
      "  print(current_thread().getName(),'...started')\n"
     ]
    },
    {
     "name": "stdout",
     "output_type": "stream",
     "text": [
      "Child thread ..ended\n",
      "The number of active threads : 8\n",
      "Thread Name MainThread\n",
      "Thread Name IOPub\n",
      "Thread Name Heartbeat\n",
      "Thread Name Thread-3 (_watch_pipe_fd)\n",
      "Thread Name Thread-4 (_watch_pipe_fd)\n",
      "Thread Name Control\n",
      "Thread Name IPythonHistorySavingThread\n",
      "Thread Name Thread-2\n"
     ]
    },
    {
     "name": "stderr",
     "output_type": "stream",
     "text": [
      "/tmp/ipykernel_95/3315939747.py:6: DeprecationWarning: getName() is deprecated, get the name attribute instead\n",
      "  print(current_thread().getName(),'..ended')\n"
     ]
    }
   ],
   "source": [
    "from threading import *\n",
    "import time\n",
    "def display():\n",
    "    print(current_thread().getName(),'...started')\n",
    "    time.sleep(3)\n",
    "    print(current_thread().getName(),'..ended')\n",
    "print(\"The number of active threads :\",active_count())\n",
    "t1=Thread(target=display,name='Child thread')\n",
    "t1.start()\n",
    "print(\"The number of active threads :\",active_count())\n",
    "time.sleep(3)\n",
    "print(\"The number of active threads :\",active_count())\n",
    "l=enumerate()\n",
    "for t in l:\n",
    "    print(\"Thread Name\",t.name)"
   ]
  },
  {
   "cell_type": "markdown",
   "id": "c9defa55-4857-4c66-88f2-56f9f96ced20",
   "metadata": {},
   "source": [
    "### Q3. Explain the following functions\n",
    "\n",
    "1. run()\n",
    "2. start()\n",
    "3. join()\n",
    "4. isAlive()"
   ]
  },
  {
   "cell_type": "markdown",
   "id": "29e8e944-7231-4612-ad94-66034409ca1c",
   "metadata": {},
   "source": [
    "1. run() ===> This method executes any target function belonging to a given thread object that is now active. \n",
    " It normally executes in the background after the .start() method is invoked.\n"
   ]
  },
  {
   "cell_type": "markdown",
   "id": "3dacd7dd-706c-4b78-b2b5-5936dd19a1d8",
   "metadata": {},
   "source": [
    "2. start()===> This method activates and prompts a thread object to be run."
   ]
  },
  {
   "cell_type": "markdown",
   "id": "0f91258d-7562-415a-af4f-b041fbf654f3",
   "metadata": {},
   "source": [
    "3. join()===> If a thred wants to wait until completing some other thread then we should go for join() method."
   ]
  },
  {
   "cell_type": "markdown",
   "id": "f5159d47-7b9d-4619-abe5-8e289feecc6a",
   "metadata": {},
   "source": [
    "4. isAlive()===> this function is use to checks wether a thread is still executing or not."
   ]
  },
  {
   "cell_type": "code",
   "execution_count": 13,
   "id": "00b78efe-9113-4af9-8873-2746b40c773f",
   "metadata": {},
   "outputs": [
    {
     "name": "stdout",
     "output_type": "stream",
     "text": [
      "Childthread_1 ..started\n",
      "Childthread_2 ..started\n",
      "Childthread_1 is Alive : True\n",
      "Childthread_2 is Alive : True\n"
     ]
    },
    {
     "name": "stderr",
     "output_type": "stream",
     "text": [
      "/tmp/ipykernel_95/1520095167.py:4: DeprecationWarning: getName() is deprecated, get the name attribute instead\n",
      "  print(current_thread().getName(),'..started')\n",
      "/tmp/ipykernel_95/1520095167.py:6: DeprecationWarning: getName() is deprecated, get the name attribute instead\n",
      "  print(current_thread().getName(),'..ended')\n"
     ]
    },
    {
     "name": "stdout",
     "output_type": "stream",
     "text": [
      "Childthread_1 ..ended\n",
      "Childthread_2 ..ended\n"
     ]
    }
   ],
   "source": [
    "from threading import *\n",
    "import time\n",
    "def display():\n",
    "    print(current_thread().getName(),'..started')\n",
    "    time.sleep(3)\n",
    "    print(current_thread().getName(),'..ended')\n",
    "t1=Thread(target=display,name='Childthread_1')\n",
    "t2=Thread(target=display,name='Childthread_2')\n",
    "t1.start()\n",
    "t2.start()\n",
    "print(t1.name,\"is Alive :\", t1.is_alive())\n",
    "print(t2.name,\"is Alive :\", t2.is_alive())\n",
    "    \n"
   ]
  },
  {
   "cell_type": "markdown",
   "id": "6b503cea-c677-4222-a159-3d0eaa6a81fd",
   "metadata": {},
   "source": [
    "### Q4. Write a python program to create two threads. Thread one must print the list of squares and thread two must print the list of cubes"
   ]
  },
  {
   "cell_type": "code",
   "execution_count": 21,
   "id": "481bcb89-de93-41c3-b5ad-dc6ecdd6563f",
   "metadata": {},
   "outputs": [
    {
     "name": "stdout",
     "output_type": "stream",
     "text": [
      "1\n",
      "4\n",
      "9\n",
      "16\n",
      "25\n",
      "1\n",
      "8\n",
      "27\n",
      "64\n",
      "125\n"
     ]
    }
   ],
   "source": [
    "from threading import *\n",
    "import time\n",
    "def squar(l):\n",
    "    for n in l:\n",
    "        sq=n**2\n",
    "        print(sq)\n",
    "def cube(l):\n",
    "    for n in l:\n",
    "        cu=n**3\n",
    "        print(cu)\n",
    "if __name__==\"__main__\":\n",
    "    l=[1,2,3,4,5]\n",
    "    thread1=Thread(target=squar,args=(l,))\n",
    "    thread2=Thread(target=cube,args=(l,))\n",
    "    thread1.start()\n",
    "    thread2.start()\n",
    "    thread1.join()\n",
    "    thread2.join()\n"
   ]
  },
  {
   "cell_type": "markdown",
   "id": "c6398671-4efe-4613-9895-3bdfa6951e32",
   "metadata": {},
   "source": [
    "### Q5. State advantages and disadvantages of multithreading"
   ]
  },
  {
   "cell_type": "markdown",
   "id": "f4986b6e-7318-4541-8105-905f042473bd",
   "metadata": {},
   "source": [
    "Advantage \n",
    "----------------------------------------------------------\n",
    "1. Enhanced performance by decreased development time\n",
    "2. Simplified and streamlined program coding\n",
    "3. Improvised GUI responsiveness\n",
    "4. Simultaneous and parallelized occurrence of tasks\n",
    "5. Better use of cache storage by utilization of resources\n",
    "6. Decreased cost of maintenance\n",
    "7. Better use of CPU resource"
   ]
  },
  {
   "cell_type": "markdown",
   "id": "77f0ea49-7b84-4689-9ac9-a1b9a1cc7ce0",
   "metadata": {},
   "source": [
    "Disadvantage\n",
    "-------------------------------------------------------------------------------------\n",
    "1. Complexity\n",
    "2. Synchronization overhead\n",
    "3. Context switching\n",
    "4. Hard to predict behavior\n",
    "5. Limited by hardware\n"
   ]
  },
  {
   "cell_type": "markdown",
   "id": "e5390796-24a7-44ed-8477-57f40b588599",
   "metadata": {},
   "source": [
    "### Q6. Explain deadlocks and race conditions."
   ]
  },
  {
   "cell_type": "markdown",
   "id": "d218f3cc-59a1-4521-853f-9b23e942fca6",
   "metadata": {},
   "source": [
    "Deadlock ===> A deadlock refers to a situation where two or more threads are unable to proceed because each is waiting for a resource that\n",
    "another thread holds. In other words, it's a state where threads are stuck and cannot make progress. Deadlocks typically occur when the \n",
    "following four conditions are met"
   ]
  },
  {
   "cell_type": "markdown",
   "id": "383904a8-7d0b-429b-b0b2-68f136710212",
   "metadata": {},
   "source": [
    "Race Conditions===>\n",
    "A race condition occurs when the behavior or outcome of a program depends on the relative timing or interleaving of multiple threads or \n",
    "processes. It arises when two or more threads access shared data concurrently, and the final result depends on the order of execution. \n",
    "Race conditions are unpredictable and can lead to incorrect results, crashes, or other undesirable consequences."
   ]
  },
  {
   "cell_type": "code",
   "execution_count": null,
   "id": "4439f787-cbd0-421f-9adb-0d75cbd0ed08",
   "metadata": {},
   "outputs": [],
   "source": []
  },
  {
   "cell_type": "code",
   "execution_count": null,
   "id": "3b2199e9-783f-438e-85b8-131731ea3652",
   "metadata": {},
   "outputs": [],
   "source": []
  },
  {
   "cell_type": "code",
   "execution_count": null,
   "id": "2114e136-a132-4d0c-a0ab-56bad9a81a8a",
   "metadata": {},
   "outputs": [],
   "source": []
  },
  {
   "cell_type": "code",
   "execution_count": null,
   "id": "84117c17-ad68-454c-8278-8485af95e036",
   "metadata": {},
   "outputs": [],
   "source": []
  },
  {
   "cell_type": "code",
   "execution_count": null,
   "id": "48d64f4f-4c77-4aca-9f6f-5a6ffdf191af",
   "metadata": {},
   "outputs": [],
   "source": []
  },
  {
   "cell_type": "code",
   "execution_count": null,
   "id": "e76a3912-e94c-42a0-b227-7963971fbb60",
   "metadata": {},
   "outputs": [],
   "source": []
  },
  {
   "cell_type": "code",
   "execution_count": null,
   "id": "d10d9a3b-184a-40d1-9437-4d4c6c416edc",
   "metadata": {},
   "outputs": [],
   "source": []
  },
  {
   "cell_type": "code",
   "execution_count": null,
   "id": "161044dd-b6d7-4484-ae7e-6124f1665bc1",
   "metadata": {},
   "outputs": [],
   "source": []
  },
  {
   "cell_type": "code",
   "execution_count": null,
   "id": "0f54f9b1-04b3-459d-b154-a393af6f9af9",
   "metadata": {},
   "outputs": [],
   "source": []
  },
  {
   "cell_type": "code",
   "execution_count": null,
   "id": "b4f7e2e2-d459-4eed-a72a-37266ec13325",
   "metadata": {},
   "outputs": [],
   "source": []
  },
  {
   "cell_type": "code",
   "execution_count": null,
   "id": "ee257e9e-8682-4ac5-ba8e-309ab531454a",
   "metadata": {},
   "outputs": [],
   "source": []
  },
  {
   "cell_type": "code",
   "execution_count": null,
   "id": "baa8cb8a-c052-4bb4-a2a1-59b04a889adb",
   "metadata": {},
   "outputs": [],
   "source": []
  },
  {
   "cell_type": "code",
   "execution_count": null,
   "id": "c48e9c33-81ac-423c-9517-6ed789a1746c",
   "metadata": {},
   "outputs": [],
   "source": []
  },
  {
   "cell_type": "code",
   "execution_count": null,
   "id": "dfcb393c-5076-4a45-87f7-33e83f034409",
   "metadata": {},
   "outputs": [],
   "source": []
  },
  {
   "cell_type": "code",
   "execution_count": null,
   "id": "287b18dc-d359-422c-a0c3-f6ed1ab3d31e",
   "metadata": {},
   "outputs": [],
   "source": []
  },
  {
   "cell_type": "code",
   "execution_count": null,
   "id": "5bb1b72f-d811-48bb-94ad-255dd41fd06f",
   "metadata": {},
   "outputs": [],
   "source": []
  }
 ],
 "metadata": {
  "kernelspec": {
   "display_name": "Python 3 (ipykernel)",
   "language": "python",
   "name": "python3"
  },
  "language_info": {
   "codemirror_mode": {
    "name": "ipython",
    "version": 3
   },
   "file_extension": ".py",
   "mimetype": "text/x-python",
   "name": "python",
   "nbconvert_exporter": "python",
   "pygments_lexer": "ipython3",
   "version": "3.10.8"
  }
 },
 "nbformat": 4,
 "nbformat_minor": 5
}
